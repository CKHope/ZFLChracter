{
 "cells": [
  {
   "cell_type": "code",
   "execution_count": 10,
   "id": "00f85817-4870-4b68-a98b-aa731b13e231",
   "metadata": {},
   "outputs": [],
   "source": [
    "from pyvis.network import Network\n",
    "g = Network()"
   ]
  },
  {
   "cell_type": "code",
   "execution_count": 15,
   "id": "b16c93b9-68e5-4e23-8841-6d46def800dc",
   "metadata": {},
   "outputs": [],
   "source": [
    "htmlItem=open(\"testItem1.html\")\n",
    "\n",
    "g.add_nodes([1,2,3], value=[10, 100, 400],\n",
    "                         title=['I am node 1', htmlItem, 'and im node 3'],\n",
    "                         x=[21.4, 54.2, 11.2],\n",
    "                         y=[100.2, 23.54, 32.1],\n",
    "                         label=['NODE 1', 'NODE 2', 'NODE 3'],\n",
    "                         color=['#00ff1e', '#162347', '#dd4b39'])\n",
    "g.show(\"testing.html\")"
   ]
  }
 ],
 "metadata": {
  "kernelspec": {
   "display_name": "Python 3 (ipykernel)",
   "language": "python",
   "name": "python3"
  },
  "language_info": {
   "codemirror_mode": {
    "name": "ipython",
    "version": 3
   },
   "file_extension": ".py",
   "mimetype": "text/x-python",
   "name": "python",
   "nbconvert_exporter": "python",
   "pygments_lexer": "ipython3",
   "version": "3.11.0"
  }
 },
 "nbformat": 4,
 "nbformat_minor": 5
}
